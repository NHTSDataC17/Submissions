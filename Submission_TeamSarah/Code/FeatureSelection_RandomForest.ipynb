{
 "cells": [
  {
   "cell_type": "code",
   "execution_count": 3,
   "metadata": {
    "collapsed": true
   },
   "outputs": [],
   "source": [
    "import pandas as pd\n",
    "import numpy as np\n",
    "from sklearn.ensemble import RandomForestClassifier\n",
    "from sklearn.model_selection import train_test_split\n",
    "import matplotlib.pyplot as plt\n",
    "%matplotlib inline\n",
    "from sklearn.metrics import confusion_matrix\n",
    "from sklearn.feature_selection import VarianceThreshold\n",
    "from collections import defaultdict\n",
    "from matplotlib import rc"
   ]
  },
  {
   "cell_type": "code",
   "execution_count": 4,
   "metadata": {
    "collapsed": true
   },
   "outputs": [],
   "source": [
    "data = pd.read_csv(r'H:\\My Drive\\NHTS\\Data\\Generated Data\\cleaneddataset.csv')"
   ]
  },
  {
   "cell_type": "code",
   "execution_count": 5,
   "metadata": {},
   "outputs": [
    {
     "data": {
      "text/plain": [
       "(199489, 87)"
      ]
     },
     "execution_count": 5,
     "metadata": {},
     "output_type": "execute_result"
    }
   ],
   "source": [
    "data.shape"
   ]
  },
  {
   "cell_type": "code",
   "execution_count": 6,
   "metadata": {},
   "outputs": [
    {
     "data": {
      "text/plain": [
       "array([dtype('int64'), dtype('int64'), dtype('int64'), dtype('int64'),\n",
       "       dtype('int64'), dtype('int64'), dtype('int64'), dtype('int64'),\n",
       "       dtype('int64'), dtype('int64'), dtype('int64'), dtype('int64'),\n",
       "       dtype('int64'), dtype('int64'), dtype('int64'), dtype('int64'),\n",
       "       dtype('int64'), dtype('int64'), dtype('int64'), dtype('int64'),\n",
       "       dtype('int64'), dtype('int64'), dtype('int64'), dtype('int64'),\n",
       "       dtype('int64'), dtype('int64'), dtype('int64'), dtype('int64'),\n",
       "       dtype('int64'), dtype('int64'), dtype('int64'), dtype('int64'),\n",
       "       dtype('int64'), dtype('int64'), dtype('int64'), dtype('int64'),\n",
       "       dtype('int64'), dtype('int64'), dtype('int64'), dtype('int64'),\n",
       "       dtype('int64'), dtype('int64'), dtype('int64'), dtype('int64'),\n",
       "       dtype('int64'), dtype('int64'), dtype('int64'), dtype('int64'),\n",
       "       dtype('int64'), dtype('int64'), dtype('int64'), dtype('int64'),\n",
       "       dtype('int64'), dtype('int64'), dtype('int64'), dtype('int64'),\n",
       "       dtype('int64'), dtype('int64'), dtype('int64'), dtype('int64'),\n",
       "       dtype('int64'), dtype('int64'), dtype('int64'), dtype('int64'),\n",
       "       dtype('int64'), dtype('int64'), dtype('int64'), dtype('int64'),\n",
       "       dtype('int64'), dtype('int64'), dtype('int64'), dtype('int64'),\n",
       "       dtype('int64'), dtype('int64'), dtype('int64'), dtype('int64'),\n",
       "       dtype('int64'), dtype('int64'), dtype('int64'), dtype('int64'),\n",
       "       dtype('int64'), dtype('int64'), dtype('int64'), dtype('int64'),\n",
       "       dtype('int64'), dtype('int64'), dtype('float64')], dtype=object)"
      ]
     },
     "execution_count": 6,
     "metadata": {},
     "output_type": "execute_result"
    }
   ],
   "source": [
    "data.dtypes.values"
   ]
  },
  {
   "cell_type": "code",
   "execution_count": 7,
   "metadata": {
    "scrolled": true
   },
   "outputs": [
    {
     "data": {
      "text/plain": [
       "Index(['Unnamed: 0', 'ALT_16', 'ALT_23', 'ALT_45', 'BIKE', 'BIKE_DFR',\n",
       "       'BIKE_GKP', 'BIKE4EX', 'BIKESHARE', 'BORNINUS', 'BUS', 'CAR',\n",
       "       'CARSHARE', 'CDIVMSAR', 'CNTTDHH', 'CNTTDTR', 'CONDNIGH', 'CONDPUB',\n",
       "       'CONDRIDE', 'CONDRIVE', 'CONDSPEC', 'CONDTAX', 'CONDTRAV', 'DELIVER',\n",
       "       'DRVRCNT', 'EDUC', 'GT1JBLWK', 'HBHTNRNT', 'HBPPOPDN', 'HEALTH',\n",
       "       'HH_HISP', 'HH_RACE', 'HHFAMINC', 'HHSIZE', 'HHSTATE', 'HHVEHCNT',\n",
       "       'HOMEOWN', 'HTEEMPDN', 'LIF_CYC', 'LPACT', 'MCUSED', 'MEDCOND',\n",
       "       'MSACAT', 'MSASIZE', 'NBIKETRP', 'NUMADLT', 'NWALKTRP', 'OCCAT', 'PC',\n",
       "       'PHYACT', 'PLACE', 'PRICE', 'PRMACT', 'PTRANS', 'PTUSED', 'R_AGE',\n",
       "       'R_HISP', 'R_RACE', 'R_SEX', 'RESP_CNT', 'SPHONE', 'TAXI', 'TIMETOWK',\n",
       "       'TRAIN', 'URBRUR', 'VPACT', 'W_CANE', 'W_CHAIR', 'W_CRUTCH', 'W_DOG',\n",
       "       'W_MTRCHR', 'W_NONE', 'W_SCOOTR', 'W_WHCANE', 'W_WLKR', 'WALK',\n",
       "       'WALK_DEF', 'WALK_GKQ', 'WALK2SAVE', 'WALK4EX', 'WEBUSE17', 'WKFTPT',\n",
       "       'WORKER', 'WRK_HOME', 'WRKCOUNT', 'YOUNGCHILD', 'AVGHHINC'],\n",
       "      dtype='object')"
      ]
     },
     "execution_count": 7,
     "metadata": {},
     "output_type": "execute_result"
    }
   ],
   "source": [
    "data.columns"
   ]
  },
  {
   "cell_type": "code",
   "execution_count": 8,
   "metadata": {
    "collapsed": true
   },
   "outputs": [],
   "source": [
    "data.drop('Unnamed: 0', axis = 1, inplace = True)"
   ]
  },
  {
   "cell_type": "code",
   "execution_count": 9,
   "metadata": {
    "collapsed": true
   },
   "outputs": [],
   "source": [
    "X = data.drop('HEALTH', axis = 1)\n",
    "y = data['HEALTH']"
   ]
  },
  {
   "cell_type": "code",
   "execution_count": 10,
   "metadata": {},
   "outputs": [
    {
     "data": {
      "text/plain": [
       "array([2, 3, 1, 4, 5], dtype=int64)"
      ]
     },
     "execution_count": 10,
     "metadata": {},
     "output_type": "execute_result"
    }
   ],
   "source": [
    "y.unique()"
   ]
  },
  {
   "cell_type": "code",
   "execution_count": 11,
   "metadata": {},
   "outputs": [
    {
     "data": {
      "text/plain": [
       "2    74195\n",
       "1    56048\n",
       "3    49236\n",
       "4    15821\n",
       "5     4189\n",
       "Name: HEALTH, dtype: int64"
      ]
     },
     "execution_count": 11,
     "metadata": {},
     "output_type": "execute_result"
    }
   ],
   "source": [
    "y.value_counts()"
   ]
  },
  {
   "cell_type": "code",
   "execution_count": 12,
   "metadata": {
    "collapsed": true
   },
   "outputs": [],
   "source": [
    "X_train, X_test, y_train, y_test = train_test_split(X,y,test_size=0.25,stratify = y, random_state = 24)"
   ]
  },
  {
   "cell_type": "code",
   "execution_count": 13,
   "metadata": {
    "scrolled": true
   },
   "outputs": [
    {
     "data": {
      "text/plain": [
       "2    0.371925\n",
       "1    0.280959\n",
       "3    0.246812\n",
       "4    0.079303\n",
       "5    0.021000\n",
       "Name: HEALTH, dtype: float64"
      ]
     },
     "execution_count": 13,
     "metadata": {},
     "output_type": "execute_result"
    }
   ],
   "source": [
    "y_train.value_counts()/y_train.shape[0]"
   ]
  },
  {
   "cell_type": "code",
   "execution_count": 14,
   "metadata": {},
   "outputs": [
    {
     "data": {
      "text/plain": [
       "2    0.371925\n",
       "1    0.280954\n",
       "3    0.246807\n",
       "4    0.079321\n",
       "5    0.020993\n",
       "Name: HEALTH, dtype: float64"
      ]
     },
     "execution_count": 14,
     "metadata": {},
     "output_type": "execute_result"
    }
   ],
   "source": [
    "y_test.value_counts()/y_test.shape[0]"
   ]
  },
  {
   "cell_type": "markdown",
   "metadata": {},
   "source": [
    "With balanced sample"
   ]
  },
  {
   "cell_type": "code",
   "execution_count": 15,
   "metadata": {},
   "outputs": [
    {
     "data": {
      "text/plain": [
       "RandomForestClassifier(bootstrap=True, class_weight='balanced_subsample',\n",
       "            criterion='gini', max_depth=None, max_features='auto',\n",
       "            max_leaf_nodes=None, min_impurity_decrease=0.0,\n",
       "            min_impurity_split=None, min_samples_leaf=1,\n",
       "            min_samples_split=2, min_weight_fraction_leaf=0.0,\n",
       "            n_estimators=100, n_jobs=-1, oob_score=True, random_state=24,\n",
       "            verbose=0, warm_start=False)"
      ]
     },
     "execution_count": 15,
     "metadata": {},
     "output_type": "execute_result"
    }
   ],
   "source": [
    "rf_bal = RandomForestClassifier(n_estimators = 100, n_jobs=-1, random_state = 24, oob_score=True, class_weight='balanced_subsample')\n",
    "rf_bal.fit(X_train, y_train)"
   ]
  },
  {
   "cell_type": "code",
   "execution_count": 16,
   "metadata": {},
   "outputs": [
    {
     "data": {
      "text/plain": [
       "0.49431556152627676"
      ]
     },
     "execution_count": 16,
     "metadata": {},
     "output_type": "execute_result"
    }
   ],
   "source": [
    "rf_bal.score(X_test, y_test)"
   ]
  },
  {
   "cell_type": "code",
   "execution_count": 20,
   "metadata": {},
   "outputs": [
    {
     "name": "stdout",
     "output_type": "stream",
     "text": [
      "Features sorted by their score:\n",
      "[(0.0481, 'VPACT'), (0.0443, 'R_AGE'), (0.0266, 'MEDCOND'), (0.0256, 'PHYACT'), (0.021, 'HHFAMINC'), (0.0183, 'LPACT'), (0.0152, 'AVGHHINC'), (0.0123, 'EDUC'), (0.011, 'PRMACT'), (0.0088, 'PLACE'), (0.0082, 'PRICE'), (0.0077, 'HTEEMPDN'), (0.0067, 'CDIVMSAR'), (0.0065, 'LIF_CYC'), (0.0064, 'BIKE'), (0.0062, 'WALK4EX'), (0.0061, 'WORKER'), (0.006, 'RESP_CNT'), (0.006, 'HHSIZE'), (0.0059, 'WALK'), (0.0057, 'NWALKTRP'), (0.0052, 'CNTTDHH'), (0.0049, 'WRKCOUNT'), (0.0046, 'CONDTRAV'), (0.0042, 'NUMADLT'), (0.004, 'HHSTATE'), (0.0039, 'WALK2SAVE'), (0.0038, 'WKFTPT'), (0.0037, 'DELIVER'), (0.0037, 'ALT_45'), (0.0036, 'MSACAT'), (0.0036, 'HBHTNRNT'), (0.0035, 'GT1JBLWK'), (0.0034, 'HBPPOPDN'), (0.0034, 'ALT_16'), (0.0033, 'CNTTDTR'), (0.0031, 'TAXI'), (0.003, 'MSASIZE'), (0.003, 'HHVEHCNT'), (0.003, 'ALT_23'), (0.0029, 'SPHONE'), (0.0029, 'BUS'), (0.0027, 'PTRANS'), (0.0026, 'PC'), (0.0025, 'OCCAT'), (0.0024, 'CAR'), (0.0022, 'R_RACE'), (0.0022, 'HOMEOWN'), (0.0018, 'WALK_GKQ'), (0.0017, 'WALK_DEF'), (0.0016, 'DRVRCNT'), (0.0014, 'YOUNGCHILD'), (0.0013, 'TRAIN'), (0.0012, 'WEBUSE17'), (0.001, 'W_NONE'), (0.001, 'R_HISP'), (0.0009, 'HH_RACE'), (0.0009, 'CONDRIDE'), (0.0008, 'BIKE_DFR'), (0.0007, 'BIKE_GKP'), (0.0006, 'NBIKETRP'), (0.0006, 'CONDRIVE'), (0.0006, 'BORNINUS'), (0.0005, 'CONDPUB'), (0.0004, 'URBRUR'), (0.0004, 'TIMETOWK'), (0.0004, 'BIKESHARE'), (0.0003, 'W_MTRCHR'), (0.0003, 'PTUSED'), (0.0003, 'CONDTAX'), (0.0002, 'W_WHCANE'), (0.0002, 'W_SCOOTR'), (0.0002, 'R_SEX'), (0.0002, 'MCUSED'), (0.0, 'W_DOG'), (0.0, 'W_CRUTCH'), (0.0, 'W_CHAIR'), (0.0, 'CONDSPEC'), (-0.0001, 'HH_HISP'), (-0.0002, 'WRK_HOME'), (-0.0002, 'BIKE4EX'), (-0.0005, 'CONDNIGH'), (-0.0005, 'CARSHARE'), (-0.0007, 'W_WLKR'), (-0.0009, 'W_CANE')]\n"
     ]
    }
   ],
   "source": [
    "names = X_train.columns\n",
    "scores = defaultdict(list)\n",
    "acc = np.mean(y_test == rf_bal.predict(X_test))\n",
    "for i in range(X_test.shape[1]):\n",
    "    X_t = X_test.copy()\n",
    "    np.random.shuffle(X_t.iloc[:, i].values)\n",
    "    shuff_acc = np.mean(y_test == rf_bal.predict(X_t))\n",
    "    scores[names[i]].append((acc-shuff_acc)/acc)\n",
    "print (\"Features sorted by their score:\")\n",
    "feat_imp_bal = sorted([(round(np.mean(score), 4), feat) for\n",
    "            feat, score in scores.items()], reverse=True)\n",
    "print (feat_imp_bal)"
   ]
  },
  {
   "cell_type": "code",
   "execution_count": 22,
   "metadata": {},
   "outputs": [
    {
     "data": {
      "image/png": "[encoded data removed]",
      "text/plain": [
       "<matplotlib.figure.Figure at 0x2600bd80358>"
      ]
     },
     "metadata": {},
     "output_type": "display_data"
    }
   ],
   "source": [
    "plt.style.use('ggplot')\n",
    "rc('figure', figsize=(15,5))\n",
    "fig, ax = plt.subplots()\n",
    "pd.DataFrame(feat_imp_bal, columns = ['Importance', 'Features']).set_index('Features')[0:30].plot(kind = 'bar', ax = ax)\n",
    "ax.grid(False)\n",
    "ax.set_facecolor((1, 1, 1))\n",
    "ax.spines['bottom'].set_color('black')\n",
    "ax.spines['left'].set_color('black')\n",
    "fig.suptitle('Top 30 Feature Importances', fontsize=15)\n",
    "plt.ylabel(\"Mean Decrease Accuracy\")\n",
    "ax.legend_.remove()\n",
    "fig.savefig('NHTSFeatureImp.pdf', bbox_inches = 'tight')"
   ]
  },
  {
   "cell_type": "code",
   "execution_count": 102,
   "metadata": {},
   "outputs": [
    {
     "data": {
      "text/plain": [
       "array([[ 7173,  5967,   817,    54,     1],\n",
       "       [ 3652, 12002,  2714,   175,     6],\n",
       "       [  808,  6612,  4182,   663,    44],\n",
       "       [   60,   981,  1743,  1021,   151],\n",
       "       [    9,    41,   296,   522,   179]], dtype=int64)"
      ]
     },
     "execution_count": 102,
     "metadata": {},
     "output_type": "execute_result"
    }
   ],
   "source": [
    "conf_matrix = confusion_matrix(y_test, rf_bal.predict(X_test), labels = [1,2,3,4,5])\n",
    "conf_matrix"
   ]
  },
  {
   "cell_type": "code",
   "execution_count": 101,
   "metadata": {},
   "outputs": [
    {
     "data": {
      "text/plain": [
       "Text(0.5,1,'normalized confusion matrix')"
      ]
     },
     "execution_count": 101,
     "metadata": {},
     "output_type": "execute_result"
    },
    {
     "data": {
      "image/png": "[encoded data removed]",
      "text/plain": [
       "<Figure size 432x288 with 2 Axes>"
      ]
     },
     "metadata": {},
     "output_type": "display_data"
    }
   ],
   "source": [
    "conf_matrix = conf_matrix.astype('float') / conf_matrix.sum(axis=1)[:, np.newaxis]\n",
    "plt.imshow(conf_matrix, interpolation='nearest', cmap = plt.cm.Blues)\n",
    "plt.ylabel('True label')\n",
    "plt.xlabel('Predicted label')\n",
    "plt.colorbar()\n",
    "plt.title('normalized confusion matrix')"
   ]
  }
 ],
 "metadata": {
  "kernelspec": {
   "display_name": "Python 3",
   "language": "python",
   "name": "python3"
  },
  "language_info": {
   "codemirror_mode": {
    "name": "ipython",
    "version": 3
   },
   "file_extension": ".py",
   "mimetype": "text/x-python",
   "name": "python",
   "nbconvert_exporter": "python",
   "pygments_lexer": "ipython3",
   "version": "3.6.2"
  }
 },
 "nbformat": 4,
 "nbformat_minor": 2
}
